{
 "cells": [
  {
   "cell_type": "markdown",
   "metadata": {},
   "source": [
    "# Before your start:\n",
    "\n",
    "    Read the README.md file\n",
    "    Comment as much as you can and use the resources (README.md file)\n",
    "    Happy learning!\n",
    "\n",
    "*Notes:* \n",
    "\n",
    "- Solve the questions with python.\n",
    "\n",
    "- Round the final answer to three decimal places."
   ]
  },
  {
   "cell_type": "code",
   "execution_count": 1,
   "metadata": {},
   "outputs": [],
   "source": [
    "from scipy import stats\n",
    "import numpy as np\n",
    "import matplotlib.pyplot as plt\n",
    "import math"
   ]
  },
  {
   "cell_type": "markdown",
   "metadata": {},
   "source": [
    "## Bernoulli's Distribution\n",
    "\n",
    "In a basket containing 100 fruits, there are 60 apples and 40 oranges. \n",
    "\n",
    "A fruit is picked randomly from the basket. \n",
    "\n",
    "1. **What is the probability that the fruit is apple?**\n",
    "1. **What is the probability that it is an orange?**"
   ]
  },
  {
   "cell_type": "code",
   "execution_count": 27,
   "metadata": {},
   "outputs": [],
   "source": [
    "\"\"\"\n",
    "Calculate:\n",
    "p = probability that the fruit is an apple \n",
    "q = probability that the fruit is an orange\n",
    "\"\"\""
   ]
  },
  {
   "cell_type": "code",
   "execution_count": 2,
   "metadata": {},
   "outputs": [
    {
     "name": "stdout",
     "output_type": "stream",
     "text": [
      "Probability that the fruit is an apple (p): 0.600\n",
      "Probability that the fruit is an orange (q): 0.400\n"
     ]
    }
   ],
   "source": [
    "# Total number of fruits\n",
    "total_fruits = 100\n",
    "\n",
    "# Number of apples and oranges\n",
    "num_apples = 60\n",
    "num_oranges = 40\n",
    "\n",
    "# Probability that the fruit is an apple\n",
    "p = num_apples / total_fruits\n",
    "\n",
    "# Probability that the fruit is an orange\n",
    "q = num_oranges / total_fruits\n",
    "\n",
    "print(f\"Probability that the fruit is an apple (p): {p:.3f}\")\n",
    "print(f\"Probability that the fruit is an orange (q): {q:.3f}\")"
   ]
  },
  {
   "cell_type": "markdown",
   "metadata": {},
   "source": [
    "Now we take a random sample of 20 fruits from the basket. After each fruit is taken, a new fruit of the same type is replaced in the basket. Therefore, every time we are taking 1 fruit from 100 fruits. \n",
    "\n",
    "1. **What is the probability that the first 5 fruits are all apples?**\n",
    "\n",
    "1. **What is the probability that the first 5 fruits are all apples and the next 15 fruits are all oranges?**\n",
    "\n",
    "You can include the `p` and `q` probabilities you previous calculated in your solution."
   ]
  },
  {
   "cell_type": "code",
   "execution_count": null,
   "metadata": {},
   "outputs": [],
   "source": [
    "# What is the probability that the first 5 fruits are all apples?"
   ]
  },
  {
   "cell_type": "code",
   "execution_count": 4,
   "metadata": {},
   "outputs": [
    {
     "name": "stdout",
     "output_type": "stream",
     "text": [
      "Probability that the first 5 fruits are all apples: 0.078\n",
      "Probability that the first 5 fruits are all apples and the next 15 fruits are all oranges: 0.000\n"
     ]
    }
   ],
   "source": [
    "# Probability that the first 5 fruits are all apples\n",
    "prob_first_5_apples = p ** 5\n",
    "\n",
    "# Probability that the first 5 fruits are all apples and the next 15 fruits are all oranges\n",
    "prob_5_apples_15_oranges = (p ** 5) * (q ** 15)\n",
    "\n",
    "print(f\"Probability that the first 5 fruits are all apples: {prob_first_5_apples:.3f}\")\n",
    "print(f\"Probability that the first 5 fruits are all apples and the next 15 fruits are all oranges: {prob_5_apples_15_oranges:.3f}\")"
   ]
  },
  {
   "cell_type": "markdown",
   "metadata": {},
   "source": [
    "## Binomial Distribution\n",
    "\n",
    "Similar to the above problem, this time again we randomly sample 20 fruits.\n",
    "\n",
    "**What is the probability that this time the sample contains 5 apples and 15 oranges?**\n",
    "\n",
    "Please note that this time the order of the fruits being picked does not matter."
   ]
  },
  {
   "cell_type": "code",
   "execution_count": 5,
   "metadata": {},
   "outputs": [
    {
     "name": "stdout",
     "output_type": "stream",
     "text": [
      "Probability that the sample contains 5 apples and 15 oranges: 0.001\n"
     ]
    }
   ],
   "source": [
    "# Number of trials\n",
    "n = 20\n",
    "\n",
    "# Number of apples in the sample\n",
    "k = 5\n",
    "\n",
    "# Probability using binomial distribution (order does not matter)\n",
    "prob_5_apples_15_oranges_binom = stats.binom.pmf(k, n, p)\n",
    "\n",
    "print(f\"Probability that the sample contains 5 apples and 15 oranges: {prob_5_apples_15_oranges_binom:.3f}\")"
   ]
  },
  {
   "cell_type": "markdown",
   "metadata": {},
   "source": [
    "In the lesson we also discussed CDF (cumulative distribution function). In the context of the above problem, **what is the probability that less than 5 fruits picked are apples?**\n",
    "\n",
    "Write the formula and calculate the probability below."
   ]
  },
  {
   "cell_type": "code",
   "execution_count": 6,
   "metadata": {},
   "outputs": [
    {
     "name": "stdout",
     "output_type": "stream",
     "text": [
      "Probability that less than 5 fruits picked are apples: 0.000\n"
     ]
    }
   ],
   "source": [
    "# Probability that less than 5 fruits picked are apples (i.e., 0, 1, 2, 3, or 4 apples)\n",
    "# Using the binomial cumulative distribution function (CDF)\n",
    "prob_less_than_5_apples = stats.binom.cdf(4, n, p)\n",
    "\n",
    "print(f\"Probability that less than 5 fruits picked are apples: {prob_less_than_5_apples:.3f}\")\n",
    "\n",
    "# Formula:\n",
    "# P(X < 5) = sum_{x=0}^{4} [C(n, x) * p^x * (1-p)^(n-x)]"
   ]
  },
  {
   "cell_type": "markdown",
   "metadata": {},
   "source": [
    "<!-- **Plot the PDF (probability distributiom function) for the above binomial distribution.** -->\n",
    "\n",
    "**Plot the Probability Mass Function (PMF) for the above binomial distribution.**\n",
    "\n",
    "*Hint: The range of x in a binomial distribution is from `0` to `n`.*"
   ]
  },
  {
   "cell_type": "code",
   "execution_count": 7,
   "metadata": {},
   "outputs": [
    {
     "data": {
      "image/png": "[encoded data removed]",
      "text/plain": [
       "<Figure size 800x500 with 1 Axes>"
      ]
     },
     "metadata": {},
     "output_type": "display_data"
    }
   ],
   "source": [
    "# Plot the Probability Mass Function (PMF) for the binomial distribution\n",
    "x = np.arange(0, n + 1)\n",
    "pmf = stats.binom.pmf(x, n, p)\n",
    "\n",
    "plt.figure(figsize=(8, 5))\n",
    "plt.bar(x, pmf, color='skyblue', edgecolor='black')\n",
    "plt.xlabel('Number of Apples in Sample (x)')\n",
    "plt.ylabel('Probability')\n",
    "plt.title('Binomial Distribution PMF (n=20, p=0.6)')\n",
    "plt.xticks(x)\n",
    "plt.show()"
   ]
  },
  {
   "cell_type": "markdown",
   "metadata": {},
   "source": [
    "## Poisson Distribution\n",
    "\n",
    "In this challenge you are required to use the Math library in python to solve the problems.\n",
    "\n",
    "In the UEFA champions league tournament, the average number of goals scored in a match is 2.3. \n",
    "\n",
    "**What is the probability that the number of goals scored in a match is 5?**\n",
    "\n",
    "*Hint: Use the exp() in the math library*\n",
    "\n",
    "And to calculate the factorial, you can use the following code:\n",
    "\n",
    "```python\n",
    "import math\n",
    "math.factorial(n) # n is the number you want to find the factorial of\n",
    "```"
   ]
  },
  {
   "cell_type": "code",
   "execution_count": 8,
   "metadata": {},
   "outputs": [
    {
     "name": "stdout",
     "output_type": "stream",
     "text": [
      "Probability that the number of goals scored in a match is 5: 0.054\n"
     ]
    }
   ],
   "source": [
    "# Average number of goals scored in a match\n",
    "lambda_ = 2.3\n",
    "\n",
    "# Number of goals scored in a match\n",
    "k_goals = 5\n",
    "\n",
    "# Poisson probability formula: P(X = k) = (lambda^k * exp(-lambda)) / k!\n",
    "prob_5_goals = (lambda_ ** k_goals) * math.exp(-lambda_) / math.factorial(k_goals)\n",
    "\n",
    "print(f\"Probability that the number of goals scored in a match is 5: {prob_5_goals:.3f}\")"
   ]
  },
  {
   "cell_type": "markdown",
   "metadata": {},
   "source": [
    "**Draw a poisson probability distribution plot for the number of goals to be between 0 to 10.**"
   ]
  },
  {
   "cell_type": "code",
   "execution_count": 9,
   "metadata": {},
   "outputs": [
    {
     "data": {
      "image/png": "[encoded data removed]",
      "text/plain": [
       "<Figure size 800x500 with 1 Axes>"
      ]
     },
     "metadata": {},
     "output_type": "display_data"
    }
   ],
   "source": [
    "# Values for number of goals from 0 to 10\n",
    "goals = np.arange(0, 11)\n",
    "\n",
    "# Poisson PMF for each number of goals\n",
    "poisson_pmf = [((lambda_ ** k) * math.exp(-lambda_)) / math.factorial(k) for k in goals]\n",
    "\n",
    "plt.figure(figsize=(8, 5))\n",
    "plt.bar(goals, poisson_pmf, color='lightgreen', edgecolor='black')\n",
    "plt.xlabel('Number of Goals')\n",
    "plt.ylabel('Probability')\n",
    "plt.title('Poisson Distribution: Goals Scored in a Match (λ=2.3)')\n",
    "plt.xticks(goals)\n",
    "plt.show()"
   ]
  }
 ],
 "metadata": {
  "kernelspec": {
   "display_name": ".venv (3.13.3)",
   "language": "python",
   "name": "python3"
  },
  "language_info": {
   "codemirror_mode": {
    "name": "ipython",
    "version": 3
   },
   "file_extension": ".py",
   "mimetype": "text/x-python",
   "name": "python",
   "nbconvert_exporter": "python",
   "pygments_lexer": "ipython3",
   "version": "3.13.3"
  }
 },
 "nbformat": 4,
 "nbformat_minor": 2
}
